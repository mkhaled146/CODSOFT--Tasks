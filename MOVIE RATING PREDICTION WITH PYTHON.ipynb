{
 "cells": [
  {
   "cell_type": "markdown",
   "id": "609a307e-d5ea-4e8a-a9f0-25f47a97e23a",
   "metadata": {},
   "source": [
    "<a id='top'></a>\n",
    "<div class=\"list-group\" id=\"list-tab\" role=\"tablist\">\n",
    "<p style=\"background-color:#3BB9FF ;font-family:newtimeroman;color:white;font-size:250%;text-align:center;border-radius:50px 1px;\">  MOVIE RATING PREDICTION WITH PYTHON  </p>\n",
    " \n",
    " <ul style = color:#25383C;font-size:150%;font-family:Serif;>\n",
    "    <li> Import librarries </li>\n",
    "    <li> Read dataset</li>\n",
    "    <li> Data cleaning</li>\n",
    "    <li> Data visualization</li>\n",
    "    <li> Import librarries Of Machine Learning</li>\n",
    "    <li> Data preprocessing</li>\n",
    "</ul>"
   ]
  },
  {
   "cell_type": "code",
   "execution_count": 1,
   "id": "37c164b7-b56d-4a8e-b0d4-6f43224b335e",
   "metadata": {},
   "outputs": [],
   "source": [
    "# Import Libraries \n",
    "import numpy as np\n",
    "import pandas as pd\n",
    "import matplotlib.pyplot as plt \n",
    "import seaborn as sns\n",
    "import plotly.express as px\n",
    "import warnings\n",
    "warnings.filterwarnings('ignore')"
   ]
  },
  {
   "cell_type": "code",
   "execution_count": 2,
   "id": "59a21f4e-ac06-457b-9df4-199c94c43457",
   "metadata": {},
   "outputs": [],
   "source": [
    "# Read  Data \n",
    "df = pd.read_csv('IMDb Movies India.csv', encoding='ISO-8859-1')"
   ]
  },
  {
   "cell_type": "code",
   "execution_count": 3,
   "id": "3a838b12-82b4-419a-8fb1-ed5324448e4e",
   "metadata": {},
   "outputs": [
    {
     "data": {
      "text/html": [
       "<div>\n",
       "<style scoped>\n",
       "    .dataframe tbody tr th:only-of-type {\n",
       "        vertical-align: middle;\n",
       "    }\n",
       "\n",
       "    .dataframe tbody tr th {\n",
       "        vertical-align: top;\n",
       "    }\n",
       "\n",
       "    .dataframe thead th {\n",
       "        text-align: right;\n",
       "    }\n",
       "</style>\n",
       "<table border=\"1\" class=\"dataframe\">\n",
       "  <thead>\n",
       "    <tr style=\"text-align: right;\">\n",
       "      <th></th>\n",
       "      <th>Name</th>\n",
       "      <th>Year</th>\n",
       "      <th>Duration</th>\n",
       "      <th>Genre</th>\n",
       "      <th>Rating</th>\n",
       "      <th>Votes</th>\n",
       "      <th>Director</th>\n",
       "      <th>Actor 1</th>\n",
       "      <th>Actor 2</th>\n",
       "      <th>Actor 3</th>\n",
       "    </tr>\n",
       "  </thead>\n",
       "  <tbody>\n",
       "    <tr>\n",
       "      <th>0</th>\n",
       "      <td></td>\n",
       "      <td>NaN</td>\n",
       "      <td>NaN</td>\n",
       "      <td>Drama</td>\n",
       "      <td>NaN</td>\n",
       "      <td>NaN</td>\n",
       "      <td>J.S. Randhawa</td>\n",
       "      <td>Manmauji</td>\n",
       "      <td>Birbal</td>\n",
       "      <td>Rajendra Bhatia</td>\n",
       "    </tr>\n",
       "    <tr>\n",
       "      <th>1</th>\n",
       "      <td>#Gadhvi (He thought he was Gandhi)</td>\n",
       "      <td>(2019)</td>\n",
       "      <td>109 min</td>\n",
       "      <td>Drama</td>\n",
       "      <td>7.0</td>\n",
       "      <td>8</td>\n",
       "      <td>Gaurav Bakshi</td>\n",
       "      <td>Rasika Dugal</td>\n",
       "      <td>Vivek Ghamande</td>\n",
       "      <td>Arvind Jangid</td>\n",
       "    </tr>\n",
       "    <tr>\n",
       "      <th>2</th>\n",
       "      <td>#Homecoming</td>\n",
       "      <td>(2021)</td>\n",
       "      <td>90 min</td>\n",
       "      <td>Drama, Musical</td>\n",
       "      <td>NaN</td>\n",
       "      <td>NaN</td>\n",
       "      <td>Soumyajit Majumdar</td>\n",
       "      <td>Sayani Gupta</td>\n",
       "      <td>Plabita Borthakur</td>\n",
       "      <td>Roy Angana</td>\n",
       "    </tr>\n",
       "    <tr>\n",
       "      <th>3</th>\n",
       "      <td>#Yaaram</td>\n",
       "      <td>(2019)</td>\n",
       "      <td>110 min</td>\n",
       "      <td>Comedy, Romance</td>\n",
       "      <td>4.4</td>\n",
       "      <td>35</td>\n",
       "      <td>Ovais Khan</td>\n",
       "      <td>Prateik</td>\n",
       "      <td>Ishita Raj</td>\n",
       "      <td>Siddhant Kapoor</td>\n",
       "    </tr>\n",
       "    <tr>\n",
       "      <th>4</th>\n",
       "      <td>...And Once Again</td>\n",
       "      <td>(2010)</td>\n",
       "      <td>105 min</td>\n",
       "      <td>Drama</td>\n",
       "      <td>NaN</td>\n",
       "      <td>NaN</td>\n",
       "      <td>Amol Palekar</td>\n",
       "      <td>Rajat Kapoor</td>\n",
       "      <td>Rituparna Sengupta</td>\n",
       "      <td>Antara Mali</td>\n",
       "    </tr>\n",
       "  </tbody>\n",
       "</table>\n",
       "</div>"
      ],
      "text/plain": [
       "                                 Name    Year Duration            Genre  \\\n",
       "0                                         NaN      NaN            Drama   \n",
       "1  #Gadhvi (He thought he was Gandhi)  (2019)  109 min            Drama   \n",
       "2                         #Homecoming  (2021)   90 min   Drama, Musical   \n",
       "3                             #Yaaram  (2019)  110 min  Comedy, Romance   \n",
       "4                   ...And Once Again  (2010)  105 min            Drama   \n",
       "\n",
       "   Rating Votes            Director       Actor 1             Actor 2  \\\n",
       "0     NaN   NaN       J.S. Randhawa      Manmauji              Birbal   \n",
       "1     7.0     8       Gaurav Bakshi  Rasika Dugal      Vivek Ghamande   \n",
       "2     NaN   NaN  Soumyajit Majumdar  Sayani Gupta   Plabita Borthakur   \n",
       "3     4.4    35          Ovais Khan       Prateik          Ishita Raj   \n",
       "4     NaN   NaN        Amol Palekar  Rajat Kapoor  Rituparna Sengupta   \n",
       "\n",
       "           Actor 3  \n",
       "0  Rajendra Bhatia  \n",
       "1    Arvind Jangid  \n",
       "2       Roy Angana  \n",
       "3  Siddhant Kapoor  \n",
       "4      Antara Mali  "
      ]
     },
     "execution_count": 3,
     "metadata": {},
     "output_type": "execute_result"
    }
   ],
   "source": [
    "df.head()"
   ]
  },
  {
   "cell_type": "code",
   "execution_count": 4,
   "id": "7e5e9354-6322-42d9-94ee-f7f904ab924a",
   "metadata": {},
   "outputs": [
    {
     "data": {
      "text/html": [
       "<div>\n",
       "<style scoped>\n",
       "    .dataframe tbody tr th:only-of-type {\n",
       "        vertical-align: middle;\n",
       "    }\n",
       "\n",
       "    .dataframe tbody tr th {\n",
       "        vertical-align: top;\n",
       "    }\n",
       "\n",
       "    .dataframe thead th {\n",
       "        text-align: right;\n",
       "    }\n",
       "</style>\n",
       "<table border=\"1\" class=\"dataframe\">\n",
       "  <thead>\n",
       "    <tr style=\"text-align: right;\">\n",
       "      <th></th>\n",
       "      <th>Name</th>\n",
       "      <th>Year</th>\n",
       "      <th>Duration</th>\n",
       "      <th>Genre</th>\n",
       "      <th>Rating</th>\n",
       "      <th>Votes</th>\n",
       "      <th>Director</th>\n",
       "      <th>Actor 1</th>\n",
       "      <th>Actor 2</th>\n",
       "      <th>Actor 3</th>\n",
       "    </tr>\n",
       "  </thead>\n",
       "  <tbody>\n",
       "    <tr>\n",
       "      <th>14237</th>\n",
       "      <td>The Secret in the Wind</td>\n",
       "      <td>(2021)</td>\n",
       "      <td>NaN</td>\n",
       "      <td>Drama, Mystery</td>\n",
       "      <td>NaN</td>\n",
       "      <td>NaN</td>\n",
       "      <td>Chandradeep Das</td>\n",
       "      <td>Thomas Raft</td>\n",
       "      <td>NaN</td>\n",
       "      <td>NaN</td>\n",
       "    </tr>\n",
       "    <tr>\n",
       "      <th>5770</th>\n",
       "      <td>Hoor-E-Misar</td>\n",
       "      <td>(1932)</td>\n",
       "      <td>NaN</td>\n",
       "      <td>NaN</td>\n",
       "      <td>NaN</td>\n",
       "      <td>NaN</td>\n",
       "      <td>Homi Master</td>\n",
       "      <td>NaN</td>\n",
       "      <td>NaN</td>\n",
       "      <td>NaN</td>\n",
       "    </tr>\n",
       "    <tr>\n",
       "      <th>49</th>\n",
       "      <td>2 Little Indians</td>\n",
       "      <td>(2013)</td>\n",
       "      <td>NaN</td>\n",
       "      <td>Comedy, Family</td>\n",
       "      <td>5.6</td>\n",
       "      <td>14</td>\n",
       "      <td>Ravi Bhatia</td>\n",
       "      <td>Ravi Bhatia</td>\n",
       "      <td>Ronak Bhatia</td>\n",
       "      <td>Kamal Chopra</td>\n",
       "    </tr>\n",
       "    <tr>\n",
       "      <th>6820</th>\n",
       "      <td>Jothi Malar</td>\n",
       "      <td>(1943)</td>\n",
       "      <td>NaN</td>\n",
       "      <td>Drama</td>\n",
       "      <td>NaN</td>\n",
       "      <td>NaN</td>\n",
       "      <td>Ramanarayanan</td>\n",
       "      <td>NaN</td>\n",
       "      <td>NaN</td>\n",
       "      <td>NaN</td>\n",
       "    </tr>\n",
       "    <tr>\n",
       "      <th>12272</th>\n",
       "      <td>Salma Pe Dil Aa Gaya</td>\n",
       "      <td>(1997)</td>\n",
       "      <td>149 min</td>\n",
       "      <td>Drama</td>\n",
       "      <td>5.6</td>\n",
       "      <td>26</td>\n",
       "      <td>Saawan Kumar Tak</td>\n",
       "      <td>Ayub Khan</td>\n",
       "      <td>Saadhika</td>\n",
       "      <td>Milind Gunaji</td>\n",
       "    </tr>\n",
       "  </tbody>\n",
       "</table>\n",
       "</div>"
      ],
      "text/plain": [
       "                         Name    Year Duration           Genre  Rating Votes  \\\n",
       "14237  The Secret in the Wind  (2021)      NaN  Drama, Mystery     NaN   NaN   \n",
       "5770             Hoor-E-Misar  (1932)      NaN             NaN     NaN   NaN   \n",
       "49           2 Little Indians  (2013)      NaN  Comedy, Family     5.6    14   \n",
       "6820              Jothi Malar  (1943)      NaN           Drama     NaN   NaN   \n",
       "12272    Salma Pe Dil Aa Gaya  (1997)  149 min           Drama     5.6    26   \n",
       "\n",
       "               Director      Actor 1       Actor 2        Actor 3  \n",
       "14237   Chandradeep Das  Thomas Raft           NaN            NaN  \n",
       "5770        Homi Master          NaN           NaN            NaN  \n",
       "49          Ravi Bhatia  Ravi Bhatia  Ronak Bhatia   Kamal Chopra  \n",
       "6820      Ramanarayanan          NaN           NaN            NaN  \n",
       "12272  Saawan Kumar Tak    Ayub Khan      Saadhika  Milind Gunaji  "
      ]
     },
     "execution_count": 4,
     "metadata": {},
     "output_type": "execute_result"
    }
   ],
   "source": [
    "df.sample(5)"
   ]
  },
  {
   "cell_type": "code",
   "execution_count": 5,
   "id": "63a386f4-f41d-433e-805c-a5208a989418",
   "metadata": {},
   "outputs": [
    {
     "name": "stdout",
     "output_type": "stream",
     "text": [
      "<class 'pandas.core.frame.DataFrame'>\n",
      "RangeIndex: 15509 entries, 0 to 15508\n",
      "Data columns (total 10 columns):\n",
      " #   Column    Non-Null Count  Dtype  \n",
      "---  ------    --------------  -----  \n",
      " 0   Name      15509 non-null  object \n",
      " 1   Year      14981 non-null  object \n",
      " 2   Duration  7240 non-null   object \n",
      " 3   Genre     13632 non-null  object \n",
      " 4   Rating    7919 non-null   float64\n",
      " 5   Votes     7920 non-null   object \n",
      " 6   Director  14984 non-null  object \n",
      " 7   Actor 1   13892 non-null  object \n",
      " 8   Actor 2   13125 non-null  object \n",
      " 9   Actor 3   12365 non-null  object \n",
      "dtypes: float64(1), object(9)\n",
      "memory usage: 1.2+ MB\n"
     ]
    }
   ],
   "source": [
    "df.info()"
   ]
  },
  {
   "cell_type": "code",
   "execution_count": 6,
   "id": "2ac393d8-6dd0-407c-8f3e-20e395345ac4",
   "metadata": {},
   "outputs": [
    {
     "data": {
      "text/html": [
       "<div>\n",
       "<style scoped>\n",
       "    .dataframe tbody tr th:only-of-type {\n",
       "        vertical-align: middle;\n",
       "    }\n",
       "\n",
       "    .dataframe tbody tr th {\n",
       "        vertical-align: top;\n",
       "    }\n",
       "\n",
       "    .dataframe thead th {\n",
       "        text-align: right;\n",
       "    }\n",
       "</style>\n",
       "<table border=\"1\" class=\"dataframe\">\n",
       "  <thead>\n",
       "    <tr style=\"text-align: right;\">\n",
       "      <th></th>\n",
       "      <th>Rating</th>\n",
       "    </tr>\n",
       "  </thead>\n",
       "  <tbody>\n",
       "    <tr>\n",
       "      <th>count</th>\n",
       "      <td>7919.000000</td>\n",
       "    </tr>\n",
       "    <tr>\n",
       "      <th>mean</th>\n",
       "      <td>5.841621</td>\n",
       "    </tr>\n",
       "    <tr>\n",
       "      <th>std</th>\n",
       "      <td>1.381777</td>\n",
       "    </tr>\n",
       "    <tr>\n",
       "      <th>min</th>\n",
       "      <td>1.100000</td>\n",
       "    </tr>\n",
       "    <tr>\n",
       "      <th>25%</th>\n",
       "      <td>4.900000</td>\n",
       "    </tr>\n",
       "    <tr>\n",
       "      <th>50%</th>\n",
       "      <td>6.000000</td>\n",
       "    </tr>\n",
       "    <tr>\n",
       "      <th>75%</th>\n",
       "      <td>6.800000</td>\n",
       "    </tr>\n",
       "    <tr>\n",
       "      <th>max</th>\n",
       "      <td>10.000000</td>\n",
       "    </tr>\n",
       "  </tbody>\n",
       "</table>\n",
       "</div>"
      ],
      "text/plain": [
       "            Rating\n",
       "count  7919.000000\n",
       "mean      5.841621\n",
       "std       1.381777\n",
       "min       1.100000\n",
       "25%       4.900000\n",
       "50%       6.000000\n",
       "75%       6.800000\n",
       "max      10.000000"
      ]
     },
     "execution_count": 6,
     "metadata": {},
     "output_type": "execute_result"
    }
   ],
   "source": [
    "df.describe()"
   ]
  },
  {
   "cell_type": "code",
   "execution_count": 7,
   "id": "cdd3405b-4c1f-4e86-9c26-9c4d873f8294",
   "metadata": {},
   "outputs": [
    {
     "data": {
      "text/plain": [
       "Name           0\n",
       "Year         528\n",
       "Duration    8269\n",
       "Genre       1877\n",
       "Rating      7590\n",
       "Votes       7589\n",
       "Director     525\n",
       "Actor 1     1617\n",
       "Actor 2     2384\n",
       "Actor 3     3144\n",
       "dtype: int64"
      ]
     },
     "execution_count": 7,
     "metadata": {},
     "output_type": "execute_result"
    }
   ],
   "source": [
    "df.isnull().sum()"
   ]
  },
  {
   "cell_type": "code",
   "execution_count": 8,
   "id": "f7b5c408-518f-4041-80ec-719e13345bd9",
   "metadata": {},
   "outputs": [
    {
     "data": {
      "text/plain": [
       "Index(['Name', 'Year', 'Duration', 'Genre', 'Rating', 'Votes', 'Director',\n",
       "       'Actor 1', 'Actor 2', 'Actor 3'],\n",
       "      dtype='object')"
      ]
     },
     "execution_count": 8,
     "metadata": {},
     "output_type": "execute_result"
    }
   ],
   "source": [
    "df.columns"
   ]
  },
  {
   "cell_type": "code",
   "execution_count": 9,
   "id": "2189ba75-ee46-4c35-b299-3091bfa62eae",
   "metadata": {},
   "outputs": [],
   "source": [
    "df['Year'].fillna(df['Year'].value_counts().index[0],inplace=True)"
   ]
  },
  {
   "cell_type": "code",
   "execution_count": 10,
   "id": "a7ccf95b-158e-4ff1-809a-7cea7c911b5e",
   "metadata": {},
   "outputs": [],
   "source": [
    "df['Duration'].fillna(df['Duration'].value_counts().index[0],inplace=True)\n",
    "df['Genre'].fillna(df['Genre'].value_counts().index[0],inplace=True)\n",
    "df['Rating'].fillna(df['Rating'].value_counts().index[0],inplace=True)\n",
    "df['Votes'].fillna(df['Votes'].value_counts().index[0],inplace=True)\n",
    "df['Director'].fillna(df['Director'].value_counts().index[0],inplace=True)\n",
    "df['Actor 1'].fillna(df['Actor 1'].value_counts().index[0],inplace=True)\n",
    "df['Actor 2'].fillna(df['Actor 2'].value_counts().index[0],inplace=True)\n",
    "df['Actor 3'].fillna(df['Actor 3'].value_counts().index[0],inplace=True)"
   ]
  },
  {
   "cell_type": "code",
   "execution_count": 11,
   "id": "ee2da713-b070-46b3-a9db-18eda5c745f3",
   "metadata": {},
   "outputs": [
    {
     "data": {
      "text/plain": [
       "Name        0\n",
       "Year        0\n",
       "Duration    0\n",
       "Genre       0\n",
       "Rating      0\n",
       "Votes       0\n",
       "Director    0\n",
       "Actor 1     0\n",
       "Actor 2     0\n",
       "Actor 3     0\n",
       "dtype: int64"
      ]
     },
     "execution_count": 11,
     "metadata": {},
     "output_type": "execute_result"
    }
   ],
   "source": [
    "df.isnull().sum()"
   ]
  },
  {
   "cell_type": "code",
   "execution_count": 12,
   "id": "f656983d-c1ee-4ede-a23a-7015c91cc99e",
   "metadata": {},
   "outputs": [
    {
     "data": {
      "text/plain": [
       "6"
      ]
     },
     "execution_count": 12,
     "metadata": {},
     "output_type": "execute_result"
    }
   ],
   "source": [
    "df.duplicated().sum()"
   ]
  },
  {
   "cell_type": "code",
   "execution_count": 13,
   "id": "2572a82a-3679-4333-92b9-9519a33f9036",
   "metadata": {},
   "outputs": [
    {
     "data": {
      "text/html": [
       "<div>\n",
       "<style scoped>\n",
       "    .dataframe tbody tr th:only-of-type {\n",
       "        vertical-align: middle;\n",
       "    }\n",
       "\n",
       "    .dataframe tbody tr th {\n",
       "        vertical-align: top;\n",
       "    }\n",
       "\n",
       "    .dataframe thead th {\n",
       "        text-align: right;\n",
       "    }\n",
       "</style>\n",
       "<table border=\"1\" class=\"dataframe\">\n",
       "  <thead>\n",
       "    <tr style=\"text-align: right;\">\n",
       "      <th></th>\n",
       "      <th>Name</th>\n",
       "      <th>Year</th>\n",
       "      <th>Duration</th>\n",
       "      <th>Genre</th>\n",
       "      <th>Rating</th>\n",
       "      <th>Votes</th>\n",
       "      <th>Director</th>\n",
       "      <th>Actor 1</th>\n",
       "      <th>Actor 2</th>\n",
       "      <th>Actor 3</th>\n",
       "    </tr>\n",
       "  </thead>\n",
       "  <tbody>\n",
       "    <tr>\n",
       "      <th>1250</th>\n",
       "      <td>Arab Ka Sona - Abu Kaalia</td>\n",
       "      <td>(1979)</td>\n",
       "      <td>120 min</td>\n",
       "      <td>Action</td>\n",
       "      <td>6.2</td>\n",
       "      <td>8</td>\n",
       "      <td>Master Bhagwan</td>\n",
       "      <td>Meena Rai</td>\n",
       "      <td>Dara Singh</td>\n",
       "      <td>Pran</td>\n",
       "    </tr>\n",
       "    <tr>\n",
       "      <th>1769</th>\n",
       "      <td>Balidan</td>\n",
       "      <td>(1992)</td>\n",
       "      <td>120 min</td>\n",
       "      <td>Drama</td>\n",
       "      <td>6.2</td>\n",
       "      <td>8</td>\n",
       "      <td>Jayant Desai</td>\n",
       "      <td>Ashok Kumar</td>\n",
       "      <td>Rekha</td>\n",
       "      <td>Pran</td>\n",
       "    </tr>\n",
       "    <tr>\n",
       "      <th>4723</th>\n",
       "      <td>First Time - Pehli Baar</td>\n",
       "      <td>(2009)</td>\n",
       "      <td>120 min</td>\n",
       "      <td>Drama</td>\n",
       "      <td>6.2</td>\n",
       "      <td>8</td>\n",
       "      <td>Raja Bundela</td>\n",
       "      <td>Zeenat Aman</td>\n",
       "      <td>Nitin Arora</td>\n",
       "      <td>Raj Babbar</td>\n",
       "    </tr>\n",
       "    <tr>\n",
       "      <th>9713</th>\n",
       "      <td>Musafir</td>\n",
       "      <td>(2019)</td>\n",
       "      <td>120 min</td>\n",
       "      <td>Thriller</td>\n",
       "      <td>6.2</td>\n",
       "      <td>8</td>\n",
       "      <td>Shiva Dagar</td>\n",
       "      <td>Ashok Kumar</td>\n",
       "      <td>Rekha</td>\n",
       "      <td>Pran</td>\n",
       "    </tr>\n",
       "    <tr>\n",
       "      <th>13069</th>\n",
       "      <td>Shivani</td>\n",
       "      <td>(2019)</td>\n",
       "      <td>120 min</td>\n",
       "      <td>Crime</td>\n",
       "      <td>6.2</td>\n",
       "      <td>8</td>\n",
       "      <td>Ugresh Prasad Ujala</td>\n",
       "      <td>Santosh</td>\n",
       "      <td>Rekha</td>\n",
       "      <td>Pran</td>\n",
       "    </tr>\n",
       "    <tr>\n",
       "      <th>13308</th>\n",
       "      <td>Slumdog Karodpati</td>\n",
       "      <td>(2019)</td>\n",
       "      <td>118 min</td>\n",
       "      <td>Thriller</td>\n",
       "      <td>6.2</td>\n",
       "      <td>8</td>\n",
       "      <td>Rajesh Patole</td>\n",
       "      <td>Udhav Garje</td>\n",
       "      <td>Rahul Gavane</td>\n",
       "      <td>Govindrao</td>\n",
       "    </tr>\n",
       "  </tbody>\n",
       "</table>\n",
       "</div>"
      ],
      "text/plain": [
       "                            Name    Year Duration     Genre  Rating Votes  \\\n",
       "1250   Arab Ka Sona - Abu Kaalia  (1979)  120 min    Action     6.2     8   \n",
       "1769                     Balidan  (1992)  120 min     Drama     6.2     8   \n",
       "4723     First Time - Pehli Baar  (2009)  120 min     Drama     6.2     8   \n",
       "9713                     Musafir  (2019)  120 min  Thriller     6.2     8   \n",
       "13069                    Shivani  (2019)  120 min     Crime     6.2     8   \n",
       "13308          Slumdog Karodpati  (2019)  118 min  Thriller     6.2     8   \n",
       "\n",
       "                  Director      Actor 1       Actor 2     Actor 3  \n",
       "1250        Master Bhagwan    Meena Rai    Dara Singh        Pran  \n",
       "1769          Jayant Desai  Ashok Kumar         Rekha        Pran  \n",
       "4723          Raja Bundela  Zeenat Aman   Nitin Arora  Raj Babbar  \n",
       "9713           Shiva Dagar  Ashok Kumar         Rekha        Pran  \n",
       "13069  Ugresh Prasad Ujala      Santosh         Rekha        Pran  \n",
       "13308        Rajesh Patole  Udhav Garje  Rahul Gavane   Govindrao  "
      ]
     },
     "execution_count": 13,
     "metadata": {},
     "output_type": "execute_result"
    }
   ],
   "source": [
    "df[df.duplicated()]"
   ]
  },
  {
   "cell_type": "code",
   "execution_count": 14,
   "id": "b6d47310-e8bd-446b-a5c9-728ac52f9689",
   "metadata": {},
   "outputs": [],
   "source": [
    "df.drop_duplicates(inplace=True)"
   ]
  },
  {
   "cell_type": "code",
   "execution_count": 15,
   "id": "f199fe8e-9ee7-430b-9abb-cad71f47f51a",
   "metadata": {},
   "outputs": [
    {
     "data": {
      "text/plain": [
       "0"
      ]
     },
     "execution_count": 15,
     "metadata": {},
     "output_type": "execute_result"
    }
   ],
   "source": [
    "df.duplicated().sum()"
   ]
  },
  {
   "cell_type": "code",
   "execution_count": 16,
   "id": "72e5b085-d40f-4142-bc62-bf05c0d2f498",
   "metadata": {},
   "outputs": [
    {
     "data": {
      "text/plain": [
       "(array([ 0,  1,  2,  3,  4,  5,  6,  7,  8,  9, 10, 11, 12, 13, 14, 15, 16,\n",
       "        17, 18, 19, 20, 21, 22, 23, 24, 25, 26, 27, 28, 29, 30, 31, 32, 33,\n",
       "        34, 35, 36, 37, 38, 39, 40, 41, 42, 43, 44, 45, 46, 47, 48, 49, 50,\n",
       "        51, 52, 53, 54, 55, 56, 57, 58, 59, 60, 61, 62, 63, 64, 65, 66, 67,\n",
       "        68, 69, 70, 71, 72, 73, 74, 75, 76, 77, 78, 79, 80, 81, 82, 83]),\n",
       " [Text(0, 0, '1.1'),\n",
       "  Text(1, 0, '1.4'),\n",
       "  Text(2, 0, '1.6'),\n",
       "  Text(3, 0, '1.7'),\n",
       "  Text(4, 0, '1.8'),\n",
       "  Text(5, 0, '1.9'),\n",
       "  Text(6, 0, '2.0'),\n",
       "  Text(7, 0, '2.1'),\n",
       "  Text(8, 0, '2.2'),\n",
       "  Text(9, 0, '2.3'),\n",
       "  Text(10, 0, '2.4'),\n",
       "  Text(11, 0, '2.5'),\n",
       "  Text(12, 0, '2.6'),\n",
       "  Text(13, 0, '2.7'),\n",
       "  Text(14, 0, '2.8'),\n",
       "  Text(15, 0, '2.9'),\n",
       "  Text(16, 0, '3.0'),\n",
       "  Text(17, 0, '3.1'),\n",
       "  Text(18, 0, '3.2'),\n",
       "  Text(19, 0, '3.3'),\n",
       "  Text(20, 0, '3.4'),\n",
       "  Text(21, 0, '3.5'),\n",
       "  Text(22, 0, '3.6'),\n",
       "  Text(23, 0, '3.7'),\n",
       "  Text(24, 0, '3.8'),\n",
       "  Text(25, 0, '3.9'),\n",
       "  Text(26, 0, '4.0'),\n",
       "  Text(27, 0, '4.1'),\n",
       "  Text(28, 0, '4.2'),\n",
       "  Text(29, 0, '4.3'),\n",
       "  Text(30, 0, '4.4'),\n",
       "  Text(31, 0, '4.5'),\n",
       "  Text(32, 0, '4.6'),\n",
       "  Text(33, 0, '4.7'),\n",
       "  Text(34, 0, '4.8'),\n",
       "  Text(35, 0, '4.9'),\n",
       "  Text(36, 0, '5.0'),\n",
       "  Text(37, 0, '5.1'),\n",
       "  Text(38, 0, '5.2'),\n",
       "  Text(39, 0, '5.3'),\n",
       "  Text(40, 0, '5.4'),\n",
       "  Text(41, 0, '5.5'),\n",
       "  Text(42, 0, '5.6'),\n",
       "  Text(43, 0, '5.7'),\n",
       "  Text(44, 0, '5.8'),\n",
       "  Text(45, 0, '5.9'),\n",
       "  Text(46, 0, '6.0'),\n",
       "  Text(47, 0, '6.1'),\n",
       "  Text(48, 0, '6.2'),\n",
       "  Text(49, 0, '6.3'),\n",
       "  Text(50, 0, '6.4'),\n",
       "  Text(51, 0, '6.5'),\n",
       "  Text(52, 0, '6.6'),\n",
       "  Text(53, 0, '6.7'),\n",
       "  Text(54, 0, '6.8'),\n",
       "  Text(55, 0, '6.9'),\n",
       "  Text(56, 0, '7.0'),\n",
       "  Text(57, 0, '7.1'),\n",
       "  Text(58, 0, '7.2'),\n",
       "  Text(59, 0, '7.3'),\n",
       "  Text(60, 0, '7.4'),\n",
       "  Text(61, 0, '7.5'),\n",
       "  Text(62, 0, '7.6'),\n",
       "  Text(63, 0, '7.7'),\n",
       "  Text(64, 0, '7.8'),\n",
       "  Text(65, 0, '7.9'),\n",
       "  Text(66, 0, '8.0'),\n",
       "  Text(67, 0, '8.1'),\n",
       "  Text(68, 0, '8.2'),\n",
       "  Text(69, 0, '8.3'),\n",
       "  Text(70, 0, '8.4'),\n",
       "  Text(71, 0, '8.5'),\n",
       "  Text(72, 0, '8.6'),\n",
       "  Text(73, 0, '8.7'),\n",
       "  Text(74, 0, '8.8'),\n",
       "  Text(75, 0, '8.9'),\n",
       "  Text(76, 0, '9.0'),\n",
       "  Text(77, 0, '9.1'),\n",
       "  Text(78, 0, '9.2'),\n",
       "  Text(79, 0, '9.3'),\n",
       "  Text(80, 0, '9.4'),\n",
       "  Text(81, 0, '9.6'),\n",
       "  Text(82, 0, '9.7'),\n",
       "  Text(83, 0, '10.0')])"
      ]
     },
     "execution_count": 16,
     "metadata": {},
     "output_type": "execute_result"
    },
    {
     "data": {
      "image/png": "[encoded data removed]",
      "text/plain": [
       "<Figure size 1500x800 with 1 Axes>"
      ]
     },
     "metadata": {},
     "output_type": "display_data"
    }
   ],
   "source": [
    "plt.figure(figsize=(15,8))\n",
    "sns.countplot('Rating',color='#B7950B',data=df)\n",
    "plt.xticks(rotation = 'vertical')"
   ]
  },
  {
   "cell_type": "code",
   "execution_count": 17,
   "id": "9ae5fa88-f3e0-44c8-a6cf-815c2e1fedb1",
   "metadata": {},
   "outputs": [
    {
     "data": {
      "text/html": [
       "<div>\n",
       "<style scoped>\n",
       "    .dataframe tbody tr th:only-of-type {\n",
       "        vertical-align: middle;\n",
       "    }\n",
       "\n",
       "    .dataframe tbody tr th {\n",
       "        vertical-align: top;\n",
       "    }\n",
       "\n",
       "    .dataframe thead th {\n",
       "        text-align: right;\n",
       "    }\n",
       "</style>\n",
       "<table border=\"1\" class=\"dataframe\">\n",
       "  <thead>\n",
       "    <tr style=\"text-align: right;\">\n",
       "      <th></th>\n",
       "      <th>Genre</th>\n",
       "      <th>Rating</th>\n",
       "    </tr>\n",
       "  </thead>\n",
       "  <tbody>\n",
       "    <tr>\n",
       "      <th>0</th>\n",
       "      <td>History, Romance</td>\n",
       "      <td>9.40</td>\n",
       "    </tr>\n",
       "    <tr>\n",
       "      <th>1</th>\n",
       "      <td>Documentary, Family, History</td>\n",
       "      <td>9.30</td>\n",
       "    </tr>\n",
       "    <tr>\n",
       "      <th>2</th>\n",
       "      <td>Documentary, Sport</td>\n",
       "      <td>8.60</td>\n",
       "    </tr>\n",
       "    <tr>\n",
       "      <th>3</th>\n",
       "      <td>Animation, Comedy, Family</td>\n",
       "      <td>8.30</td>\n",
       "    </tr>\n",
       "    <tr>\n",
       "      <th>4</th>\n",
       "      <td>Biography, Family</td>\n",
       "      <td>8.30</td>\n",
       "    </tr>\n",
       "    <tr>\n",
       "      <th>5</th>\n",
       "      <td>Documentary, Thriller</td>\n",
       "      <td>8.25</td>\n",
       "    </tr>\n",
       "    <tr>\n",
       "      <th>6</th>\n",
       "      <td>Documentary, Biography, Family</td>\n",
       "      <td>8.25</td>\n",
       "    </tr>\n",
       "    <tr>\n",
       "      <th>7</th>\n",
       "      <td>Documentary, Biography, Sport</td>\n",
       "      <td>8.20</td>\n",
       "    </tr>\n",
       "    <tr>\n",
       "      <th>8</th>\n",
       "      <td>Drama, Musical, Sport</td>\n",
       "      <td>8.10</td>\n",
       "    </tr>\n",
       "    <tr>\n",
       "      <th>9</th>\n",
       "      <td>Documentary, Biography, Musical</td>\n",
       "      <td>8.05</td>\n",
       "    </tr>\n",
       "  </tbody>\n",
       "</table>\n",
       "</div>"
      ],
      "text/plain": [
       "                             Genre  Rating\n",
       "0                 History, Romance    9.40\n",
       "1     Documentary, Family, History    9.30\n",
       "2               Documentary, Sport    8.60\n",
       "3        Animation, Comedy, Family    8.30\n",
       "4                Biography, Family    8.30\n",
       "5            Documentary, Thriller    8.25\n",
       "6   Documentary, Biography, Family    8.25\n",
       "7    Documentary, Biography, Sport    8.20\n",
       "8            Drama, Musical, Sport    8.10\n",
       "9  Documentary, Biography, Musical    8.05"
      ]
     },
     "execution_count": 17,
     "metadata": {},
     "output_type": "execute_result"
    }
   ],
   "source": [
    "top_rates=df.groupby('Genre').mean().sort_values('Rating',ascending=False).head(10)\n",
    "top_rates = top_rates[['Rating']].round(2)\n",
    "top_rates.reset_index(inplace=True)\n",
    "top_rates"
   ]
  },
  {
   "cell_type": "code",
   "execution_count": 18,
   "id": "112c4a5c-7853-4793-b083-c04b06e29392",
   "metadata": {},
   "outputs": [
    {
     "data": {
      "text/plain": [
       "<seaborn.axisgrid.PairGrid at 0x256c864d130>"
      ]
     },
     "execution_count": 18,
     "metadata": {},
     "output_type": "execute_result"
    },
    {
     "data": {
      "image/png": "[encoded data removed]",
      "text/plain": [
       "<Figure size 250x250 with 2 Axes>"
      ]
     },
     "metadata": {},
     "output_type": "display_data"
    }
   ],
   "source": [
    "sns.pairplot(df)"
   ]
  },
  {
   "cell_type": "code",
   "execution_count": 19,
   "id": "9095f44a-9248-428c-aadb-7fb6f470806a",
   "metadata": {},
   "outputs": [],
   "source": [
    "from sklearn.model_selection import train_test_split\n",
    "from sklearn.linear_model import LogisticRegression\n",
    "from sklearn.ensemble import RandomForestRegressor\n",
    "from sklearn.preprocessing import LabelEncoder\n",
    "\n",
    "label_encoder = LabelEncoder()\n",
    "df['Genre_encoded'] = label_encoder.fit_transform(df['Genre'])\n",
    "df_encoded = pd.get_dummies(df, columns=['Genre'], prefix=['Genre'])"
   ]
  },
  {
   "cell_type": "code",
   "execution_count": 20,
   "id": "b73e7785-b318-46eb-bb0a-7a1f3b9f1149",
   "metadata": {},
   "outputs": [],
   "source": [
    "x = df[[ 'Genre', 'Votes', 'Director',\n",
    "       'Actor 1', 'Actor 2', 'Actor 3']]\n",
    "y = df[['Rating']]"
   ]
  },
  {
   "cell_type": "code",
   "execution_count": 21,
   "id": "c874217a-feef-4e6b-bbf2-e397ce77ec4b",
   "metadata": {},
   "outputs": [],
   "source": [
    "# train test split\n",
    "x_train, x_test, y_train, y_test = train_test_split(x, y, test_size=1/4, random_state=40)"
   ]
  },
  {
   "cell_type": "code",
   "execution_count": 22,
   "id": "33fd91cd-84a1-4fbc-b50d-7b70c5575a47",
   "metadata": {},
   "outputs": [],
   "source": [
    "model = LogisticRegression()\n"
   ]
  },
  {
   "cell_type": "code",
   "execution_count": null,
   "id": "ac21e80b-430a-47f0-be2f-7254aeb565a4",
   "metadata": {},
   "outputs": [],
   "source": [
    "# predict and accuracy\n",
    "\n",
    "model.fit(x_train , y_train)\n",
    "y_pred = model.predict(x_test)"
   ]
  },
  {
   "cell_type": "code",
   "execution_count": null,
   "id": "4e87d22a-2eb9-4763-99df-f18d00e49c65",
   "metadata": {},
   "outputs": [],
   "source": [
    "accuracy_score(y_test,y_pred)"
   ]
  },
  {
   "cell_type": "code",
   "execution_count": null,
   "id": "e4be8106-e7ad-44b0-a612-10732179a0e8",
   "metadata": {},
   "outputs": [],
   "source": [
    "# model \n",
    "model = RandomForestRegressor()\n",
    "\n",
    "model.fit(x_train , y_train)"
   ]
  },
  {
   "cell_type": "code",
   "execution_count": null,
   "id": "ff10a8d3-1b8c-407a-a53f-39650c516731",
   "metadata": {},
   "outputs": [],
   "source": [
    "# predict and accuracy\n",
    "model.fit(x_train , y_train)\n",
    "y_pred = model.predict(x_test)\n",
    "y_pred"
   ]
  },
  {
   "cell_type": "code",
   "execution_count": null,
   "id": "fe4c76c1-4074-477b-90cf-f7d2738c77a0",
   "metadata": {},
   "outputs": [],
   "source": [
    "accuracy_score(y_test,y_pred)"
   ]
  }
 ],
 "metadata": {
  "kernelspec": {
   "display_name": "Python 3 (ipykernel)",
   "language": "python",
   "name": "python3"
  },
  "language_info": {
   "codemirror_mode": {
    "name": "ipython",
    "version": 3
   },
   "file_extension": ".py",
   "mimetype": "text/x-python",
   "name": "python",
   "nbconvert_exporter": "python",
   "pygments_lexer": "ipython3",
   "version": "3.9.13"
  }
 },
 "nbformat": 4,
 "nbformat_minor": 5
}
